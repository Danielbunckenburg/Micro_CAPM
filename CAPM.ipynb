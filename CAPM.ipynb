{
 "cells": [
  {
   "cell_type": "code",
   "execution_count": 1,
   "id": "c80a377c",
   "metadata": {},
   "outputs": [],
   "source": [
    "# Vi ønsker at finde the efficient frontier med faktiske data. I princippet burde vi bruge alle mulige \n",
    "# finansielle aktiver, men vi starter med Apple, Microsoft, Amazon, Google og META (Facebook). \n",
    "# Vi bruger yfinance til at hente data fra dette århundrede "
   ]
  },
  {
   "cell_type": "code",
   "execution_count": 2,
   "id": "ae252bb2",
   "metadata": {},
   "outputs": [
    {
     "name": "stdout",
     "output_type": "stream",
     "text": [
      "YF.download() has changed argument auto_adjust default to True\n"
     ]
    },
    {
     "name": "stderr",
     "output_type": "stream",
     "text": [
      "[*********************100%***********************]  5 of 5 completed"
     ]
    },
    {
     "name": "stdout",
     "output_type": "stream",
     "text": [
      "Prepared monthly return table with shape: (131, 5)\n"
     ]
    },
    {
     "name": "stderr",
     "output_type": "stream",
     "text": [
      "\n",
      "C:\\Users\\graug\\AppData\\Local\\Temp\\ipykernel_13816\\3692054644.py:30: FutureWarning: 'M' is deprecated and will be removed in a future version, please use 'ME' instead.\n",
      "  data_monthly    = data.resample('M').ffill()\n"
     ]
    }
   ],
   "source": [
    "# -----------------------------------------------------------------------\n",
    "# Data download & monthly-return table  (yfinance ≥ 0.2.59 compatible)\n",
    "# -----------------------------------------------------------------------\n",
    "import warnings\n",
    "import pandas as pd\n",
    "import numpy as np\n",
    "import yfinance as yf\n",
    "\n",
    "# 0️⃣  (optional) hide the auto_adjust banner – wording is stable across versions\n",
    "warnings.filterwarnings(\n",
    "    \"ignore\",\n",
    "    message=\".*auto_adjust default has changed.*\",\n",
    "    category=UserWarning,\n",
    "    module=\"yfinance\"\n",
    ")\n",
    "\n",
    "# 1️⃣  tickers and download\n",
    "tickers = ['AAPL', 'MSFT', 'AMZN', 'GOOG', 'META']\n",
    "data = yf.download(\n",
    "    tickers,\n",
    "    start='2000-01-01',\n",
    "    end='2023-05-01'        # inclusive of 2023-04-30\n",
    "    # auto_adjust=True is the default in recent releases\n",
    ")\n",
    "\n",
    "# 2️⃣  fully adjusted prices are now in the “Close” field\n",
    "data = data['Close']            # drop the first-level column “Close”\n",
    "\n",
    "# 3️⃣  daily  ➜  month-end prices  ➜  pct-change returns\n",
    "data_monthly    = data.resample('M').ffill()\n",
    "returns_monthly = data_monthly.pct_change().dropna()\n",
    "\n",
    "# 4️⃣  stats every later cell expects\n",
    "average_returns = returns_monthly.mean()      # Series (μ)\n",
    "cov_matrix      = returns_monthly.cov()       # DataFrame (Σ)\n",
    "\n",
    "print(\"Prepared monthly return table with shape:\", returns_monthly.shape)\n",
    "\n",
    "\n"
   ]
  },
  {
   "cell_type": "code",
   "execution_count": 3,
   "id": "c2a8d871",
   "metadata": {},
   "outputs": [],
   "source": [
    "# Vi laver en portefolio der har  lige vægt i alle aktierne. \n",
    "# Vi simulerer 1000 draws fra fordelingen. Vi antager at middelværdi og covariance er som estimteret foroven\n",
    "# Vi antager normalfordelte afkast."
   ]
  },
  {
   "cell_type": "code",
   "execution_count": 4,
   "id": "ea4b9a30",
   "metadata": {
    "scrolled": true
   },
   "outputs": [
    {
     "name": "stdout",
     "output_type": "stream",
     "text": [
      "Mean of the simulated returns: 0.020551458333708587\n",
      "Standard deviation of the simulated returns: 0.06092182691491748\n"
     ]
    }
   ],
   "source": [
    "import numpy as np\n",
    "\n",
    "# Set the seed for reproducibility\n",
    "np.random.seed(42)\n",
    "\n",
    "# Define the weights for the portfolio (equal weights)\n",
    "weights = np.array([0.2, 0.2, 0.2, 0.2, 0.2])\n",
    "\n",
    "# Run 1000 simulations\n",
    "num_simulations = 1000\n",
    "simulated_returns = []\n",
    "for i in range(num_simulations):\n",
    "    # Draw returns for the five companies\n",
    "    drawn_returns = np.random.multivariate_normal(average_returns, cov_matrix)\n",
    "    # Calculate the portfolio return\n",
    "    portfolio_return = np.sum(drawn_returns * weights)\n",
    "    simulated_returns.append(portfolio_return)\n",
    "\n",
    "# Convert the list to a numpy array\n",
    "simulated_returns = np.array(simulated_returns)\n",
    "\n",
    "# Calculate the mean and standard deviation\n",
    "mean_simulation = np.mean(simulated_returns)\n",
    "std_simulation = np.std(simulated_returns)\n",
    "\n",
    "print(f\"Mean of the simulated returns: {mean_simulation}\")\n",
    "print(f\"Standard deviation of the simulated returns: {std_simulation}\")\n"
   ]
  },
  {
   "cell_type": "code",
   "execution_count": 5,
   "id": "fc7d8af4",
   "metadata": {},
   "outputs": [],
   "source": [
    "# Vi plotter denne portefølje i et plot med varians og standardafvigelse sammen med hver af de 5 individuelle aktier. "
   ]
  },
  {
   "cell_type": "code",
   "execution_count": 6,
   "id": "202f91b7",
   "metadata": {},
   "outputs": [
    {
     "name": "stderr",
     "output_type": "stream",
     "text": [
      "C:\\Users\\graug\\AppData\\Local\\Temp\\ipykernel_13816\\1665195081.py:10: FutureWarning: Series.__getitem__ treating keys as positions is deprecated. In a future version, integer keys will always be treated as labels (consistent with DataFrame behavior). To access a value by position, use `ser.iloc[pos]`\n",
      "  plt.annotate(txt, (individual_stds[i], individual_means[i]))\n"
     ]
    },
    {
     "data": {
      "image/png": "[encoded data removed]",
      "text/plain": [
       "<Figure size 640x480 with 1 Axes>"
      ]
     },
     "metadata": {},
     "output_type": "display_data"
    }
   ],
   "source": [
    "import matplotlib.pyplot as plt\n",
    "\n",
    "# Calculate the mean and standard deviation of each stock\n",
    "individual_means = average_returns\n",
    "individual_stds = returns_monthly.std()\n",
    "\n",
    "# Plot individual stocks\n",
    "plt.scatter(individual_stds, individual_means, color='red')\n",
    "for i, txt in enumerate(tickers):\n",
    "    plt.annotate(txt, (individual_stds[i], individual_means[i]))\n",
    "\n",
    "# Plot the result of the simulation\n",
    "plt.scatter(std_simulation, mean_simulation, color='blue')\n",
    "plt.annotate(\"Portfolio\", (std_simulation, mean_simulation))\n",
    "\n",
    "# Set the labels for the axes\n",
    "plt.xlabel('Standard Deviation')\n",
    "plt.ylabel('Mean Return')\n",
    "\n",
    "# Set the title of the plot\n",
    "plt.title('Mean-Standard Deviation Plot')\n",
    "\n",
    "# Show the plot\n",
    "plt.grid(True)\n",
    "plt.show()\n"
   ]
  },
  {
   "cell_type": "code",
   "execution_count": 7,
   "id": "eed2e072",
   "metadata": {},
   "outputs": [],
   "source": [
    "# Men der er ingen garanti for at det er det bedste vi kan gøre! Vi kunne regne det ud, men vi tager bare 1000 \n",
    "# tilfældige porteføljer og plotter dem tilsvarende som figuren foroven. Vi kan visuelt se hvad den efficient frontier \n",
    "# er. Vi tilføjer linien mellem det risikofri aktiv og the efficient frontier. "
   ]
  },
  {
   "cell_type": "code",
   "execution_count": null,
   "id": "a36165fb",
   "metadata": {},
   "outputs": [],
   "source": [
    "import numpy as np\n",
    "import matplotlib.pyplot as plt\n",
    "\n",
    "# Number of portfolios to simulate\n",
    "num_portfolios = 500\n",
    "\n",
    "# Number of simulations for each portfolio\n",
    "num_simulations = 1000000\n",
    "\n",
    "# Create empty arrays to store the results\n",
    "portfolio_means = np.zeros(num_portfolios)\n",
    "portfolio_stds = np.zeros(num_portfolios)\n",
    "sharpe_ratios = np.zeros(num_portfolios)  # Store Sharpe Ratios here\n",
    "\n",
    "# Store the weights of each portfolio\n",
    "portfolio_weights = np.zeros((num_portfolios, len(tickers)))\n",
    "\n",
    "r_f = 0.01  # risk-free rate\n",
    "\n",
    "np.random.seed(42) # for reproducibility\n",
    "\n",
    "# Perform the simulations\n",
    "for i in range(num_portfolios):\n",
    "    # Generate random weights that sum up to 1\n",
    "    weights = np.random.random(len(tickers))\n",
    "    weights /= np.sum(weights)\n",
    "\n",
    "    # Store weights\n",
    "    portfolio_weights[i, :] = weights\n",
    "\n",
    "    # Perform the simulation\n",
    "    returns_simulation = np.random.multivariate_normal(average_returns, cov_matrix, num_simulations) @ weights\n",
    "\n",
    "    # Calculate the mean and standard deviation\n",
    "    portfolio_means[i] = np.mean(returns_simulation)\n",
    "    portfolio_stds[i] = np.std(returns_simulation)\n",
    "    \n",
    "    # Calculate Sharpe Ratio\n",
    "    sharpe_ratios[i] = (portfolio_means[i] - r_f) / portfolio_stds[i]\n",
    "\n",
    "# Get the portfolio with the maximum Sharpe Ratio\n",
    "max_sharpe_idx = np.argmax(sharpe_ratios)\n",
    "max_sharpe_std = portfolio_stds[max_sharpe_idx]\n",
    "max_sharpe_mean = portfolio_means[max_sharpe_idx]\n",
    "\n",
    "# Get the weights of the portfolio with the maximum Sharpe Ratio\n",
    "max_sharpe_weights = portfolio_weights[max_sharpe_idx, :]\n",
    "\n",
    "# Plot individual stocks\n",
    "plt.scatter(individual_stds, individual_means, color='red', label='Individual Stocks')\n",
    "for i, txt in enumerate(tickers):\n",
    "    plt.annotate(txt, (individual_stds[i], individual_means[i]))\n",
    "\n",
    "# Plot the portfolios\n",
    "plt.scatter(portfolio_stds, portfolio_means, color='blue', alpha=0.5, label='Portfolios')\n",
    "\n",
    "# Highlight the portfolio with maximum Sharpe Ratio\n",
    "plt.scatter(max_sharpe_std, max_sharpe_mean, color='yellow', label='Max Sharpe Ratio')\n",
    "\n",
    "# Draw a line between the risk-free rate and the portfolio with the maximum Sharpe Ratio\n",
    "plt.plot([0, max_sharpe_std, max_sharpe_std + 0.01], [r_f, max_sharpe_mean, r_f + (max_sharpe_std + 0.01 - 0) * ((max_sharpe_mean - r_f) / (max_sharpe_std - 0))], color='orange')\n",
    "\n",
    "# Set the labels for the axes\n",
    "plt.xlabel('Standard Deviation')\n",
    "plt.ylabel('Mean Return')\n",
    "\n",
    "# Set the x-axis to start from 0\n",
    "plt.xlim([0, max(portfolio_stds.max(), individual_stds.max()) + 0.01])  # 0.01 is added to extend the x-axis\n",
    "\n",
    "# Set the title of the plot\n",
    "plt.title('Mean-Standard Deviation Plot')\n",
    "\n",
    "# Add a legend\n",
    "plt.legend()\n",
    "\n",
    "# Show the plot\n",
    "plt.grid(True)\n",
    "plt.show()\n",
    "\n",
    "# Display the weights of the portfolio with the maximum Sharpe Ratio\n",
    "print(f\"Weights of the portfolio with maximum Sharpe ratio tickers [AAPL,MSFT,AMZN,GOOG,META]: {[round(w, 2) for w in max_sharpe_weights]}\")\n"
   ]
  },
  {
   "cell_type": "code",
   "execution_count": null,
   "id": "220ede14",
   "metadata": {},
   "outputs": [],
   "source": []
  }
 ],
 "metadata": {
  "kernelspec": {
   "display_name": "Python [conda env:base] *",
   "language": "python",
   "name": "conda-base-py"
  },
  "language_info": {
   "codemirror_mode": {
    "name": "ipython",
    "version": 3
   },
   "file_extension": ".py",
   "mimetype": "text/x-python",
   "name": "python",
   "nbconvert_exporter": "python",
   "pygments_lexer": "ipython3",
   "version": "3.12.3"
  }
 },
 "nbformat": 4,
 "nbformat_minor": 5
}
